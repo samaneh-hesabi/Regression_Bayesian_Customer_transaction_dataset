{
 "cells": [
  {
   "cell_type": "code",
   "execution_count": 1,
   "metadata": {},
   "outputs": [
    {
     "ename": "ModuleNotFoundError",
     "evalue": "No module named 'pymc'",
     "output_type": "error",
     "traceback": [
      "\u001b[0;31m---------------------------------------------------------------------------\u001b[0m",
      "\u001b[0;31mModuleNotFoundError\u001b[0m                       Traceback (most recent call last)",
      "Cell \u001b[0;32mIn[1], line 2\u001b[0m\n\u001b[1;32m      1\u001b[0m \u001b[38;5;66;03m# 1. Imports\u001b[39;00m\n\u001b[0;32m----> 2\u001b[0m \u001b[38;5;28;01mimport\u001b[39;00m \u001b[38;5;21;01mpymc\u001b[39;00m \u001b[38;5;28;01mas\u001b[39;00m \u001b[38;5;21;01mpm\u001b[39;00m\n\u001b[1;32m      3\u001b[0m \u001b[38;5;28;01mimport\u001b[39;00m \u001b[38;5;21;01mnumpy\u001b[39;00m \u001b[38;5;28;01mas\u001b[39;00m \u001b[38;5;21;01mnp\u001b[39;00m\n\u001b[1;32m      4\u001b[0m \u001b[38;5;28;01mimport\u001b[39;00m \u001b[38;5;21;01mpandas\u001b[39;00m \u001b[38;5;28;01mas\u001b[39;00m \u001b[38;5;21;01mpd\u001b[39;00m\n",
      "\u001b[0;31mModuleNotFoundError\u001b[0m: No module named 'pymc'"
     ]
    }
   ],
   "source": [
    "# 1. Imports\n",
    "import pymc as pm\n",
    "import numpy as np\n",
    "import pandas as pd\n",
    "import matplotlib.pyplot as plt\n",
    "import seaborn as sns\n",
    "import arviz as az\n",
    "from sklearn.datasets import fetch_california_housing\n",
    "from sklearn.preprocessing import StandardScaler\n",
    "\n",
    "# 2. Load dataset\n",
    "housing = fetch_california_housing()\n",
    "df = pd.DataFrame(housing.data, columns=housing.feature_names)\n",
    "df[\"MedHouseVal\"] = housing.target\n",
    "\n",
    "# 3. Use AveRooms to predict MedHouseVal\n",
    "X = df[\"AveRooms\"].values\n",
    "y = df[\"MedHouseVal\"].values\n",
    "\n",
    "# 4. Standardize the predictor for numerical stability\n",
    "X_mean, X_std = X.mean(), X.std()\n",
    "X_scaled = (X - X_mean) / X_std\n",
    "\n",
    "# 5. Build Bayesian Regression Model\n",
    "with pm.Model() as model:\n",
    "    # Priors\n",
    "    intercept = pm.Normal(\"intercept\", mu=0, sigma=10)\n",
    "    slope = pm.Normal(\"slope\", mu=0, sigma=10)\n",
    "    sigma = pm.HalfNormal(\"sigma\", sigma=10)\n",
    "\n",
    "    # Linear model\n",
    "    mu = intercept + slope * X_scaled\n",
    "\n",
    "    # Likelihood\n",
    "    y_obs = pm.Normal(\"y_obs\", mu=mu, sigma=sigma, observed=y)\n",
    "\n",
    "    # Sampling\n",
    "    trace = pm.sample(1000, tune=1000, return_inferencedata=True, target_accept=0.95)\n",
    "\n",
    "az.plot_posterior(trace, var_names=[\"intercept\", \"slope\", \"sigma\"], hdi_prob=0.95)\n",
    "plt.show()\n",
    "\n",
    "# Sample from posterior\n",
    "posterior_samples = trace.posterior\n",
    "slope_samples = posterior_samples[\"slope\"].values.flatten()\n",
    "intercept_samples = posterior_samples[\"intercept\"].values.flatten()\n",
    "\n",
    "# Predict across X range\n",
    "x_vals = np.linspace(X_scaled.min(), X_scaled.max(), 100)\n",
    "y_preds = np.array([\n",
    "    intercept_samples[i] + slope_samples[i] * x_vals for i in range(100)\n",
    "])\n",
    "\n",
    "# Plot\n",
    "plt.figure(figsize=(10, 6))\n",
    "plt.scatter(X_scaled, y, alpha=0.4, label=\"Data\")\n",
    "plt.plot(x_vals, y_preds.mean(axis=0), color=\"red\", label=\"Mean Prediction\")\n",
    "plt.fill_between(\n",
    "    x_vals,\n",
    "    np.percentile(y_preds, 2.5, axis=0),\n",
    "    np.percentile(y_preds, 97.5, axis=0),\n",
    "    alpha=0.3,\n",
    "    color=\"red\",\n",
    "    label=\"95% CI\"\n",
    ")\n",
    "plt.xlabel(\"AveRooms (Standardized)\")\n",
    "plt.ylabel(\"Median House Value ($100,000s)\")\n",
    "plt.title(\"Bayesian Linear Regression (California Housing)\")\n",
    "plt.legend()\n",
    "plt.show()\n",
    "\n"
   ]
  }
 ],
 "metadata": {
  "kernelspec": {
   "display_name": "Bayesian_Regression",
   "language": "python",
   "name": "python3"
  },
  "language_info": {
   "codemirror_mode": {
    "name": "ipython",
    "version": 3
   },
   "file_extension": ".py",
   "mimetype": "text/x-python",
   "name": "python",
   "nbconvert_exporter": "python",
   "pygments_lexer": "ipython3",
   "version": "3.11.11"
  }
 },
 "nbformat": 4,
 "nbformat_minor": 2
}
